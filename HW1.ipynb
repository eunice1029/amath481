{
 "cells": [
  {
   "cell_type": "code",
   "execution_count": 45,
   "metadata": {},
   "outputs": [],
   "source": [
    "## Homework 1\n",
    "\n",
    "import numpy as np\n"
   ]
  },
  {
   "cell_type": "code",
   "execution_count": 46,
   "metadata": {},
   "outputs": [],
   "source": [
    "# Problem 1\n",
    "# Newton-Raphson method: x_(n+1) = x_n - f(x_n)/f'(x_n)\n",
    "\n",
    "tol = 1e-6\n",
    "x_initial = -1.6\n",
    "x_n = x_initial\n",
    "iteration_range = 10000\n",
    "x_val_Newton = [x_initial]\n",
    "\n",
    "for num_interation in range(iteration_range):\n",
    "    f = x_n * np.sin(3 * x_n) - np.exp(x_n)\n",
    "    f_derivative = np.sin(3*x_n) + 3 * x_n * np.cos(3*x_n) - np.exp(x_n)\n",
    "    if f_derivative != 0: # denominator should not be 0\n",
    "        x_n = x_n - (f / f_derivative)\n",
    "        x_val_Newton.append(x_n)\n",
    "        if abs(f) < tol:\n",
    "            converge_interations = num_interation + 1\n",
    "            break\n",
    "    \n",
    "\n",
    "x_val_Newton_vec = np.array(x_val_Newton)\n",
    "A1 = x_val_Newton_vec\n",
    "\n",
    "\n",
    "\n",
    "a = -0.7; b = -0.4 # end points\n",
    "midpoints = []\n",
    "for num_interation_1 in range(iteration_range):\n",
    "    f = x_n * np.sin(3 * x_n) - np.exp(x_n)\n",
    "    f_a = a * np.sin(3 * a) - np.exp(a)\n",
    "    f_b = b * np.sin(3 * b) - np.exp(b)\n",
    "    if f_a * f_b < 0: # In bisection, over interval [a,b] f(a) and f(b) have opposite signs. \n",
    "                      # When the two are multiplied, it should be a negative. \n",
    "        midpoint = (a + b) / 2\n",
    "        midpoints.append(midpoint)\n",
    "        f_mid = midpoint * np.sin(3 * midpoint) - np.exp(midpoint)\n",
    "        if abs(f_mid) < tol or (b - a) / 2 < tol: #(if range between end points is smaller than tolerance -> break)\n",
    "            converge_interations_1 = num_interation_1 + 1\n",
    "            break\n",
    "\n",
    "    # get new end points\n",
    "    if f_a * f_mid < 0: \n",
    "        b = midpoint \n",
    "    else:\n",
    "        a = midpoint\n",
    "\n",
    "\n",
    "A2 = midpoints\n",
    "A3 = converge_interations, converge_interations_1\n",
    "A3 = np.array(A3)\n",
    "\n"
   ]
  },
  {
   "cell_type": "code",
   "execution_count": 47,
   "metadata": {},
   "outputs": [
    {
     "name": "stdout",
     "output_type": "stream",
     "text": [
      "[-1.6         3.19799514  2.46440244  1.2035359   0.65020146 -0.11692334\n",
      " -0.66052349 -0.52192654 -0.56655274 -0.57074658 -0.57078962 -0.57078962]\n",
      "[-0.55, -0.625, -0.5875, -0.5687500000000001, -0.578125, -0.5734375, -0.5710937500000001, -0.5699218750000001, -0.5705078125, -0.57080078125, -0.570654296875, -0.5707275390625, -0.57076416015625, -0.570782470703125, -0.5707916259765625, -0.5707870483398438, -0.5707893371582031]\n",
      "[11 17]\n"
     ]
    }
   ],
   "source": [
    "print(A1)\n",
    "print(A2)\n",
    "print(A3)"
   ]
  },
  {
   "cell_type": "code",
   "execution_count": 48,
   "metadata": {},
   "outputs": [
    {
     "name": "stdout",
     "output_type": "stream",
     "text": [
      "[[ 3  2]\n",
      " [-1  3]]\n",
      "[ 3 -4]\n",
      "[ 1 -1]\n",
      "[ 2 -2]\n",
      "[ 1  2 -1]\n",
      "[ 3  5 -1]\n",
      "[[ 2  4]\n",
      " [-2  2]]\n",
      "[[ 4  0 -6]\n",
      " [ 0  0 -2]]\n",
      "[[5 4]\n",
      " [1 0]]\n"
     ]
    }
   ],
   "source": [
    "# Problem 2\n",
    "A = np.array([[1, 2], [-1, 1]])\n",
    "B = np.array([[2, 0], [0, 2]])\n",
    "C = np.array([[2, 0, -3], [0, 0, -1]])\n",
    "D = np.array([[1, 2], [2, 3], [-1, 0]])\n",
    "x = np.array([1, 0])\n",
    "y = np.array([0, 1])\n",
    "z = np.array([1, 2, -1])\n",
    "\n",
    "# a)\n",
    "A4 = A + B\n",
    "print(A4)\n",
    "\n",
    "# b)\n",
    "A5 = 3 * x - 4 * y\n",
    "print(A5)\n",
    "\n",
    "# c)\n",
    "A6 = np.dot(A, x)\n",
    "print(A6)\n",
    "\n",
    "# d) \n",
    "x_y = x - y\n",
    "A7 = np.dot(B, x_y)\n",
    "print(A7)\n",
    "\n",
    "# e)\n",
    "A8 = np.dot(D, x)\n",
    "print(A8)\n",
    "\n",
    "# f)\n",
    "D_y = np.dot(D, y)\n",
    "A9 = D_y + z\n",
    "print(A9)\n",
    "\n",
    "# g)\n",
    "A10 = np.dot(A, B)\n",
    "print(A10)\n",
    "\n",
    "# h)\n",
    "A11 = np.dot(B, C)\n",
    "print(A11)\n",
    "\n",
    "# i) \n",
    "A12 = np.dot(C, D)\n",
    "print(A12)\n",
    "\n"
   ]
  }
 ],
 "metadata": {
  "kernelspec": {
   "display_name": "base",
   "language": "python",
   "name": "python3"
  },
  "language_info": {
   "codemirror_mode": {
    "name": "ipython",
    "version": 3
   },
   "file_extension": ".py",
   "mimetype": "text/x-python",
   "name": "python",
   "nbconvert_exporter": "python",
   "pygments_lexer": "ipython3",
   "version": "3.8.8"
  },
  "orig_nbformat": 4
 },
 "nbformat": 4,
 "nbformat_minor": 2
}
